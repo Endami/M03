{
 "cells": [
  {
   "cell_type": "code",
   "execution_count": 41,
   "id": "510c9b1c-58f8-4779-9489-8f444a269fe4",
   "metadata": {},
   "outputs": [],
   "source": [
    "#Richard Clark 4/1/2024 M03 Lists and functions"
   ]
  },
  {
   "cell_type": "code",
   "execution_count": 42,
   "id": "550498f9-2fec-4494-ad81-a10f3ad68cf3",
   "metadata": {},
   "outputs": [],
   "source": [
    "#7.1: Creating the years list\n",
    "years_list = [1998, 1999, 2000, 2001, 2002, 2003]"
   ]
  },
  {
   "cell_type": "code",
   "execution_count": 43,
   "id": "1c69860b-b44f-463c-9863-060c6cdf8570",
   "metadata": {},
   "outputs": [
    {
     "data": {
      "text/plain": [
       "2001"
      ]
     },
     "execution_count": 43,
     "metadata": {},
     "output_type": "execute_result"
    }
   ],
   "source": [
    "#7.2: Determining the year of your third birthday\n",
    "third_birthday_year = years_list[3]\n",
    "third_birthday_year"
   ]
  },
  {
   "cell_type": "code",
   "execution_count": 44,
   "id": "611e5859-4121-4d3e-9656-ba967b15fd30",
   "metadata": {},
   "outputs": [
    {
     "data": {
      "text/plain": [
       "2003"
      ]
     },
     "execution_count": 44,
     "metadata": {},
     "output_type": "execute_result"
    }
   ],
   "source": [
    "#7.3: In which year in years_list were you the oldest?\n",
    "oldest_year = years_list[5]\n",
    "oldest_year"
   ]
  },
  {
   "cell_type": "code",
   "execution_count": 45,
   "id": "25c45efa-7b02-44e2-b742-51e77048079f",
   "metadata": {},
   "outputs": [],
   "source": [
    "#7.4: Make a list called things with the three strings provided as elements\n",
    "things = [\"mozzarella\", \"cinderella\", \"salmonella\"]"
   ]
  },
  {
   "cell_type": "code",
   "execution_count": 46,
   "id": "50bdcfad-0208-4bea-9dcf-476ea02dacf3",
   "metadata": {},
   "outputs": [
    {
     "data": {
      "text/plain": [
       "['mozzarella', 'Cinderella', 'salmonella']"
      ]
     },
     "execution_count": 46,
     "metadata": {},
     "output_type": "execute_result"
    }
   ],
   "source": [
    "#7.5: Capatalize the element in things that refers to a person and then print the list. Does it change the element in the list?\n",
    "things[1] = things[1].capitalize()\n",
    "things"
   ]
  },
  {
   "cell_type": "code",
   "execution_count": 47,
   "id": "2f9f5eeb-5cc2-4ece-9896-c1ae3610c5e9",
   "metadata": {},
   "outputs": [
    {
     "data": {
      "text/plain": [
       "['MOZZARELLA', 'Cinderella', 'salmonella']"
      ]
     },
     "execution_count": 47,
     "metadata": {},
     "output_type": "execute_result"
    }
   ],
   "source": [
    "#7.6: Make the cheesy element of things all upppercase and then print the list.\n",
    "things[0] = things[0].upper()\n",
    "things"
   ]
  },
  {
   "cell_type": "code",
   "execution_count": 48,
   "id": "5fee79fc-7ff6-4065-ba78-ecbf4203855d",
   "metadata": {},
   "outputs": [
    {
     "name": "stdout",
     "output_type": "stream",
     "text": [
      "You have collected the Nobel Prize\n"
     ]
    },
    {
     "data": {
      "text/plain": [
       "['MOZZARELLA', 'Cinderella']"
      ]
     },
     "execution_count": 48,
     "metadata": {},
     "output_type": "execute_result"
    }
   ],
   "source": [
    "#7.7: Delete the disease element from things, collect your Nobel Prize, and print the list\n",
    "del things[2]\n",
    "print(\"You have collected the Nobel Prize\")\n",
    "things"
   ]
  },
  {
   "cell_type": "code",
   "execution_count": 56,
   "id": "3f3a9cab-1be5-4579-9153-8285a94ac698",
   "metadata": {},
   "outputs": [],
   "source": [
    "#7.8: Create a list called surprise with the elements given.\n",
    "surprise = [\"Groucho\", \"Chico\", \"Harpo\"]"
   ]
  },
  {
   "cell_type": "code",
   "execution_count": 57,
   "id": "03618a9a-0a0b-4f86-9f46-23e6a57bdcfa",
   "metadata": {},
   "outputs": [
    {
     "data": {
      "text/plain": [
       "['Groucho', 'Chico', 'Hro']"
      ]
     },
     "execution_count": 57,
     "metadata": {},
     "output_type": "execute_result"
    }
   ],
   "source": [
    "#7.9: Lowercase the last element of the surprise list, reverse it, then capitalize it.\n",
    "surprise[2] = surprise[2].lower()[::2].capitalize()\n",
    "surprise"
   ]
  },
  {
   "cell_type": "code",
   "execution_count": 58,
   "id": "ddf2988b-ec4f-49dc-8faf-e085197c2d0e",
   "metadata": {},
   "outputs": [
    {
     "data": {
      "text/plain": [
       "[0, 2, 4, 6, 8]"
      ]
     },
     "execution_count": 58,
     "metadata": {},
     "output_type": "execute_result"
    }
   ],
   "source": [
    "#7.10: Make a list called even of all even numbers in range(10)\n",
    "even = [num for num in range(10) if num % 2 == 0]\n",
    "even"
   ]
  },
  {
   "cell_type": "code",
   "execution_count": 59,
   "id": "2951da6e-fa83-48ba-875a-6c82ed7676a9",
   "metadata": {},
   "outputs": [
    {
     "name": "stdout",
     "output_type": "stream",
     "text": [
      "Fee! Fie! Foe!Flop!\n",
      "Someone better get a mop.\n",
      "\n",
      "Fee! Fie! Foe!Fope!\n",
      "Someone better turn the rope.\n",
      "\n",
      "Fee! Fie! Foe!Fa!\n",
      "Someone better get your ma.\n",
      "\n",
      "Fee! Fie! Foe!Fudge!\n",
      "Someone better call the judge.\n",
      "\n",
      "Fee! Fie! Foe!Fat!\n",
      "Someone better pet the cat.\n",
      "\n",
      "Fee! Fie! Foe!Fog!\n",
      "Someone better walk the dog.\n",
      "\n",
      "Fee! Fie! Foe!Fun!\n",
      "Someone better say we're done.\n",
      "\n"
     ]
    }
   ],
   "source": [
    "#7.11: Create a jump rope rhyme maker\n",
    "start1 = [\"fee\", \"fie\", \"foe\"]\n",
    "rhymes = [\n",
    "    (\"flop\", \"get a mop\"),\n",
    "    (\"fope\", \"turn the rope\"),\n",
    "    (\"fa\", \"get your ma\"),\n",
    "    (\"fudge\", \"call the judge\"),\n",
    "    (\"fat\", \"pet the cat\"),\n",
    "    (\"fog\", \"walk the dog\"),\n",
    "    (\"fun\", \"say we're done\")\n",
    "]\n",
    "start2 = \"Someone better\"\n",
    "\n",
    "for first, second in rhymes:\n",
    "    # First Line\n",
    "    print(' '.join(word.capitalize() + '!' for word in start1) + first.capitalize() + '!')\n",
    "    \n",
    "    # Second Line\n",
    "    print(start2 + ' ' + second + '.')\n",
    "    print()"
   ]
  },
  {
   "cell_type": "code",
   "execution_count": 60,
   "id": "c347e5c4-729f-4aa4-8c92-6bf6af49aaed",
   "metadata": {},
   "outputs": [
    {
     "name": "stdout",
     "output_type": "stream",
     "text": [
      "['Harry', 'Ron', 'Hermione']\n"
     ]
    }
   ],
   "source": [
    "#9.1: define a function called good()\n",
    "def good():\n",
    "    return ['Harry', 'Ron', 'Hermione']\n",
    "print(good())"
   ]
  },
  {
   "cell_type": "code",
   "execution_count": 62,
   "id": "16fbcc15-3f0e-4006-8618-9c65f81b5913",
   "metadata": {},
   "outputs": [
    {
     "name": "stdout",
     "output_type": "stream",
     "text": [
      "The third odd number is: 5\n"
     ]
    }
   ],
   "source": [
    "#9.2: Define a generator function called get_odds()\n",
    "def get_odds():\n",
    "    for number in range(1, 10, 2):\n",
    "        yield number\n",
    "count = 0\n",
    "for odd in get_odds():\n",
    "    count += 1\n",
    "    if count ==3:\n",
    "        print(\"The third odd number is:\", odd)\n",
    "        break"
   ]
  },
  {
   "cell_type": "code",
   "execution_count": null,
   "id": "435440ba-8e5e-429c-b160-3aa0813193f1",
   "metadata": {},
   "outputs": [],
   "source": []
  }
 ],
 "metadata": {
  "kernelspec": {
   "display_name": "Python 3 (ipykernel)",
   "language": "python",
   "name": "python3"
  },
  "language_info": {
   "codemirror_mode": {
    "name": "ipython",
    "version": 3
   },
   "file_extension": ".py",
   "mimetype": "text/x-python",
   "name": "python",
   "nbconvert_exporter": "python",
   "pygments_lexer": "ipython3",
   "version": "3.11.7"
  }
 },
 "nbformat": 4,
 "nbformat_minor": 5
}
