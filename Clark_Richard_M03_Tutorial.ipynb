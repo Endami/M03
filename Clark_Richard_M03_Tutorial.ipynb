{
 "cells": [
  {
   "cell_type": "code",
   "execution_count": null,
   "id": "a69b262b-3ff1-42d6-ad5e-0da8061f5a6d",
   "metadata": {},
   "outputs": [],
   "source": [
    "Richard Clark 4/1/2024 M03 Tutorial"
   ]
  },
  {
   "cell_type": "code",
   "execution_count": null,
   "id": "f163615b-17ad-4d04-bee7-ebe97a78b211",
   "metadata": {},
   "outputs": [],
   "source": [
    "#Sort an array of 0's,1's and 2's\n",
    "#User function Template for python3\n",
    "\n",
    "class Solution:\n",
    "    def sort012(self, arr, n):\n",
    "        low = 0\n",
    "        mid = 0\n",
    "        high = n - 1\n",
    "\n",
    "        while mid <= high:\n",
    "            if arr[mid] == 0:\n",
    "                arr[low], arr[mid] = arr[mid], arr[low]\n",
    "                low += 1\n",
    "                mid += 1\n",
    "            elif arr[mid] == 1:\n",
    "                mid += 1\n",
    "            else:\n",
    "                arr[mid], arr[high] = arr[high], arr[mid]\n",
    "                high -= 1\n",
    "        return arr\n",
    "\n",
    "\n",
    "\n",
    "\n",
    "#{ \n",
    " # Driver Code Starts\n",
    "#Initial Template for Python 3\n",
    "\n",
    "if __name__ == '__main__':\n",
    "    t=int(input())\n",
    "    for _ in range(t):\n",
    "        n=int(input())\n",
    "        arr=[int(x) for x in input().strip().split()]\n",
    "        ob=Solution()\n",
    "        ob.sort012(arr,n)\n",
    "        for i in arr:\n",
    "            print(i, end=' ')\n",
    "        print()\n",
    "\n",
    "# } Driver Code Ends"
   ]
  },
  {
   "cell_type": "code",
   "execution_count": null,
   "id": "763d965e-07af-4f83-a41e-b9cb4f23bfc3",
   "metadata": {},
   "outputs": [],
   "source": [
    "#Binary Search\n",
    "class Solution:    \n",
    "    def binarysearch(self, arr, n, k):\n",
    "        return self.binary_search(arr, 0, n - 1, k)\n",
    "    \n",
    "    def binary_search(self, arr, low, high, k):\n",
    "        if low <= high:\n",
    "            mid = low + (high - low) // 2\n",
    "\n",
    "            if arr[mid] == k:\n",
    "                return mid\n",
    "            elif arr[mid] < k:\n",
    "                return self.binary_search(arr, mid + 1, high, k)\n",
    "            else:\n",
    "                return self.binary_search(arr, low, mid - 1, k)\n",
    "        \n",
    "        return -1\n",
    "\n",
    "# Driver Code\n",
    "if __name__ == '__main__':\n",
    "    t = int(input())\n",
    "    for i in range(t):\n",
    "        n = int(input())\n",
    "        arr = list(map(int, input().strip().split(' ')))\n",
    "        k = int(input())\n",
    "        ob = Solution()\n",
    "        print(ob.binarysearch(arr, n, k))\n"
   ]
  },
  {
   "cell_type": "code",
   "execution_count": null,
   "id": "879146d4-9175-4926-bd4b-55be44b22922",
   "metadata": {},
   "outputs": [],
   "source": []
  }
 ],
 "metadata": {
  "kernelspec": {
   "display_name": "Python 3 (ipykernel)",
   "language": "python",
   "name": "python3"
  },
  "language_info": {
   "codemirror_mode": {
    "name": "ipython",
    "version": 3
   },
   "file_extension": ".py",
   "mimetype": "text/x-python",
   "name": "python",
   "nbconvert_exporter": "python",
   "pygments_lexer": "ipython3",
   "version": "3.11.7"
  }
 },
 "nbformat": 4,
 "nbformat_minor": 5
}
